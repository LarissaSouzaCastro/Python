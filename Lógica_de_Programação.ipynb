{
  "nbformat": 4,
  "nbformat_minor": 0,
  "metadata": {
    "colab": {
      "provenance": [],
      "authorship_tag": "ABX9TyMLgH0+z1PyCKPA9hLnPG4n",
      "include_colab_link": true
    },
    "kernelspec": {
      "name": "python3",
      "display_name": "Python 3"
    },
    "language_info": {
      "name": "python"
    }
  },
  "cells": [
    {
      "cell_type": "markdown",
      "metadata": {
        "id": "view-in-github",
        "colab_type": "text"
      },
      "source": [
        "<a href=\"https://colab.research.google.com/github/LarissaSouzaCastro/Python/blob/main/L%C3%B3gica_de_Programa%C3%A7%C3%A3o.ipynb\" target=\"_parent\"><img src=\"https://colab.research.google.com/assets/colab-badge.svg\" alt=\"Open In Colab\"/></a>"
      ]
    },
    {
      "cell_type": "markdown",
      "source": [
        "# Criando minha primeira função"
      ],
      "metadata": {
        "id": "HirHuDR_JW9u"
      }
    },
    {
      "cell_type": "code",
      "execution_count": 5,
      "metadata": {
        "id": "5JPBM4H4iFht"
      },
      "outputs": [],
      "source": [
        "def saudacao():\n",
        "  nome = input('Qual é o seu nome? ')\n",
        "  print(f'Olá {nome}')\n",
        "  "
      ]
    },
    {
      "cell_type": "code",
      "source": [
        "saudacao()"
      ],
      "metadata": {
        "colab": {
          "base_uri": "https://localhost:8080/"
        },
        "id": "w-T7zQQ3KXEa",
        "outputId": "fa38b1a7-6117-4e0b-a1f8-502f3bff8686"
      },
      "execution_count": 6,
      "outputs": [
        {
          "output_type": "stream",
          "name": "stdout",
          "text": [
            "Qual é o seu nome? Larissa\n",
            "Olá Larissa\n"
          ]
        }
      ]
    },
    {
      "cell_type": "code",
      "source": [],
      "metadata": {
        "id": "Fb-cgmUFKYJY"
      },
      "execution_count": null,
      "outputs": []
    }
  ]
}